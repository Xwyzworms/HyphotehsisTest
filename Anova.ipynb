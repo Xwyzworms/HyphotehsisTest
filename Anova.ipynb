{
  "nbformat": 4,
  "nbformat_minor": 0,
  "metadata": {
    "colab": {
      "name": "Anova.ipynb",
      "provenance": [],
      "collapsed_sections": []
    },
    "kernelspec": {
      "name": "python3",
      "display_name": "Python 3"
    }
  },
  "cells": [
    {
      "cell_type": "code",
      "metadata": {
        "id": "xdnsiP27mj78",
        "colab_type": "code",
        "outputId": "4db34551-1100-4ac3-9358-7ef36b27194f",
        "colab": {
          "base_uri": "https://localhost:8080/",
          "height": 122
        }
      },
      "source": [
        "from google.colab import drive\n",
        "drive.mount(\"/content/drive\")"
      ],
      "execution_count": 0,
      "outputs": [
        {
          "output_type": "stream",
          "text": [
            "Go to this URL in a browser: https://accounts.google.com/o/oauth2/auth?client_id=947318989803-6bn6qk8qdgf4n4g3pfee6491hc0brc4i.apps.googleusercontent.com&redirect_uri=urn%3aietf%3awg%3aoauth%3a2.0%3aoob&response_type=code&scope=email%20https%3a%2f%2fwww.googleapis.com%2fauth%2fdocs.test%20https%3a%2f%2fwww.googleapis.com%2fauth%2fdrive%20https%3a%2f%2fwww.googleapis.com%2fauth%2fdrive.photos.readonly%20https%3a%2f%2fwww.googleapis.com%2fauth%2fpeopleapi.readonly\n",
            "\n",
            "Enter your authorization code:\n",
            "··········\n",
            "Mounted at /content/drive\n"
          ],
          "name": "stdout"
        }
      ]
    },
    {
      "cell_type": "code",
      "metadata": {
        "id": "_9Msmo0bm0bv",
        "colab_type": "code",
        "outputId": "040e99ff-be12-44f8-b84f-54620650b03c",
        "colab": {
          "base_uri": "https://localhost:8080/",
          "height": 71
        }
      },
      "source": [
        "import pandas as pd\n",
        "import matplotlib.pyplot as plt\n",
        "import seaborn as sns\n",
        "import numpy as np\n",
        "import scipy.stats as stats"
      ],
      "execution_count": 0,
      "outputs": [
        {
          "output_type": "stream",
          "text": [
            "/usr/local/lib/python3.6/dist-packages/statsmodels/tools/_testing.py:19: FutureWarning: pandas.util.testing is deprecated. Use the functions in the public API at pandas.testing instead.\n",
            "  import pandas.util.testing as tm\n"
          ],
          "name": "stderr"
        }
      ]
    },
    {
      "cell_type": "code",
      "metadata": {
        "id": "t4R21KjwnOEa",
        "colab_type": "code",
        "outputId": "ebeda9d7-89f5-469d-eeac-34b1654553b0",
        "colab": {
          "base_uri": "https://localhost:8080/",
          "height": 204
        }
      },
      "source": [
        "dataset=sns.load_dataset('iris')\n",
        "dataset.head()"
      ],
      "execution_count": 0,
      "outputs": [
        {
          "output_type": "execute_result",
          "data": {
            "text/html": [
              "<div>\n",
              "<style scoped>\n",
              "    .dataframe tbody tr th:only-of-type {\n",
              "        vertical-align: middle;\n",
              "    }\n",
              "\n",
              "    .dataframe tbody tr th {\n",
              "        vertical-align: top;\n",
              "    }\n",
              "\n",
              "    .dataframe thead th {\n",
              "        text-align: right;\n",
              "    }\n",
              "</style>\n",
              "<table border=\"1\" class=\"dataframe\">\n",
              "  <thead>\n",
              "    <tr style=\"text-align: right;\">\n",
              "      <th></th>\n",
              "      <th>sepal_length</th>\n",
              "      <th>sepal_width</th>\n",
              "      <th>petal_length</th>\n",
              "      <th>petal_width</th>\n",
              "      <th>species</th>\n",
              "    </tr>\n",
              "  </thead>\n",
              "  <tbody>\n",
              "    <tr>\n",
              "      <th>0</th>\n",
              "      <td>5.1</td>\n",
              "      <td>3.5</td>\n",
              "      <td>1.4</td>\n",
              "      <td>0.2</td>\n",
              "      <td>setosa</td>\n",
              "    </tr>\n",
              "    <tr>\n",
              "      <th>1</th>\n",
              "      <td>4.9</td>\n",
              "      <td>3.0</td>\n",
              "      <td>1.4</td>\n",
              "      <td>0.2</td>\n",
              "      <td>setosa</td>\n",
              "    </tr>\n",
              "    <tr>\n",
              "      <th>2</th>\n",
              "      <td>4.7</td>\n",
              "      <td>3.2</td>\n",
              "      <td>1.3</td>\n",
              "      <td>0.2</td>\n",
              "      <td>setosa</td>\n",
              "    </tr>\n",
              "    <tr>\n",
              "      <th>3</th>\n",
              "      <td>4.6</td>\n",
              "      <td>3.1</td>\n",
              "      <td>1.5</td>\n",
              "      <td>0.2</td>\n",
              "      <td>setosa</td>\n",
              "    </tr>\n",
              "    <tr>\n",
              "      <th>4</th>\n",
              "      <td>5.0</td>\n",
              "      <td>3.6</td>\n",
              "      <td>1.4</td>\n",
              "      <td>0.2</td>\n",
              "      <td>setosa</td>\n",
              "    </tr>\n",
              "  </tbody>\n",
              "</table>\n",
              "</div>"
            ],
            "text/plain": [
              "   sepal_length  sepal_width  petal_length  petal_width species\n",
              "0           5.1          3.5           1.4          0.2  setosa\n",
              "1           4.9          3.0           1.4          0.2  setosa\n",
              "2           4.7          3.2           1.3          0.2  setosa\n",
              "3           4.6          3.1           1.5          0.2  setosa\n",
              "4           5.0          3.6           1.4          0.2  setosa"
            ]
          },
          "metadata": {
            "tags": []
          },
          "execution_count": 4
        }
      ]
    },
    {
      "cell_type": "markdown",
      "metadata": {
        "id": "XLDstqu6Qq_H",
        "colab_type": "text"
      },
      "source": [
        "$ latex SStotal = \\sum  Y^2 – \\frac {T^2}{N}&s=2 $\n",
        "\n",
        "\n"
      ]
    },
    {
      "cell_type": "code",
      "metadata": {
        "id": "HmKyx6jsorWK",
        "colab_type": "code",
        "colab": {}
      },
      "source": [
        "def AnovaTest(Dependent,dataset):\n",
        "  for feature in dataset.columns:\n",
        "    ss_w=0\n",
        "    ss_b=0\n",
        "    if not (pd.api.types.is_numeric_dtype(dataset[feature])):\n",
        "      df_anova=dataset[[Dependent,feature]]\n",
        "  \n",
        "      unique=pd.unique(df_anova[feature].values)\n",
        "      d_data={species:df_anova[Dependent][df_anova[\"species\"] == species] for species in unique}\n",
        "      \n",
        "      for d in d_data:\n",
        "        ss_b += d_data[d].shape[0] * \\\n",
        "        np.sum(  ( d_data[d].mean() - df_anova[Dependent].mean() )  ** 2) ##each Group mean - total group mean\n",
        "     \n",
        "      for d in d_data:\n",
        "        ss_w += np.sum(  ( d_data[d] - d_data[d].mean() ) **2  )\n",
        "        \n",
        "      msb = ss_b / ((df_anova[feature].nunique()) - 1)\n",
        "      msw = ss_w / ( len(df_anova) - (df_anova[feature].nunique())  )\n",
        "      \n",
        "      p_value=stats.f.sf( msb/msw,( (df_anova[feature].nunique() ) - 1),( len(df_anova) - (df_anova[feature].nunique()) ) )\n",
        "      print(\"F_Statistic --> {} \".format(msb/msw))\n",
        "      print(\"P--Value --> {} \".format(round(p_value,5)))\n"
      ],
      "execution_count": 0,
      "outputs": []
    },
    {
      "cell_type": "code",
      "metadata": {
        "id": "GjFjKYnhrAU3",
        "colab_type": "code",
        "outputId": "2e0c5e0b-3d0c-40f0-a9a3-d47fdc1aa3c8",
        "colab": {
          "base_uri": "https://localhost:8080/",
          "height": 153
        }
      },
      "source": [
        "AnovaTest(\"petal_width\",dataset=dataset)\n"
      ],
      "execution_count": 0,
      "outputs": [
        {
          "output_type": "stream",
          "text": [
            "Col\n",
            "Col\n",
            "Col\n",
            "Col\n",
            "Col\n",
            "3\n",
            "F_Statistic --> 960.0071468018062 \n",
            "P--Value --> 0.0 \n"
          ],
          "name": "stdout"
        }
      ]
    },
    {
      "cell_type": "code",
      "metadata": {
        "id": "Y4DQtKKiTFPN",
        "colab_type": "code",
        "outputId": "0cc97645-575d-414a-8a58-cb12b1716b5f",
        "colab": {
          "base_uri": "https://localhost:8080/",
          "height": 530
        }
      },
      "source": [
        "\n",
        "from statsmodels.formula.api import ols\n",
        "import statsmodels.api as sm\n",
        "result=ols('petal_width ~ species ',data=dataset).fit()\n",
        "print(result.summary())\n",
        "aov=sm.stats.anova_lm(result)\n",
        "print(aov)"
      ],
      "execution_count": 0,
      "outputs": [
        {
          "output_type": "stream",
          "text": [
            "                            OLS Regression Results                            \n",
            "==============================================================================\n",
            "Dep. Variable:            petal_width   R-squared:                       0.929\n",
            "Model:                            OLS   Adj. R-squared:                  0.928\n",
            "Method:                 Least Squares   F-statistic:                     960.0\n",
            "Date:                Mon, 18 May 2020   Prob (F-statistic):           4.17e-85\n",
            "Time:                        15:09:10   Log-Likelihood:                 26.643\n",
            "No. Observations:                 150   AIC:                            -47.29\n",
            "Df Residuals:                     147   BIC:                            -38.25\n",
            "Df Model:                           2                                         \n",
            "Covariance Type:            nonrobust                                         \n",
            "=========================================================================================\n",
            "                            coef    std err          t      P>|t|      [0.025      0.975]\n",
            "-----------------------------------------------------------------------------------------\n",
            "Intercept                 0.2460      0.029      8.500      0.000       0.189       0.303\n",
            "species[T.versicolor]     1.0800      0.041     26.387      0.000       0.999       1.161\n",
            "species[T.virginica]      1.7800      0.041     43.489      0.000       1.699       1.861\n",
            "==============================================================================\n",
            "Omnibus:                        1.299   Durbin-Watson:                   1.999\n",
            "Prob(Omnibus):                  0.522   Jarque-Bera (JB):                0.898\n",
            "Skew:                          -0.055   Prob(JB):                        0.638\n",
            "Kurtosis:                       3.363   Cond. No.                         3.73\n",
            "==============================================================================\n",
            "\n",
            "Warnings:\n",
            "[1] Standard Errors assume that the covariance matrix of the errors is correctly specified.\n",
            "             df     sum_sq    mean_sq           F        PR(>F)\n",
            "species     2.0  80.413333  40.206667  960.007147  4.169446e-85\n",
            "Residual  147.0   6.156600   0.041882         NaN           NaN\n"
          ],
          "name": "stdout"
        }
      ]
    },
    {
      "cell_type": "code",
      "metadata": {
        "id": "c9OUhUkMVL5M",
        "colab_type": "code",
        "colab": {}
      },
      "source": [
        ""
      ],
      "execution_count": 0,
      "outputs": []
    }
  ]
}